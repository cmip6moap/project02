{
 "cells": [
  {
   "cell_type": "code",
   "execution_count": 180,
   "metadata": {},
   "outputs": [],
   "source": [
    "import iris\n",
    "import iris.coord_categorisation\n",
    "import calendar\n",
    "import os\n",
    "import numpy as np\n",
    "import xarray as xr\n",
    "from datetime import datetime\n",
    "import matplotlib.pyplot as plt\n",
    "from matplotlib.lines import Line2D"
   ]
  },
  {
   "cell_type": "code",
   "execution_count": 181,
   "metadata": {},
   "outputs": [],
   "source": [
    "def gpcc_indices():\n",
    "    gpcc_directory = \"/gws/pw/j05/cop26_hackathons/bristol/project02/data/obs/TRBindices/GPCC\"\n",
    "    gpcc_filename = \"pr_1m_zonAvgNikulin_GPCC_1891-2019_05.nc\"\n",
    "    ds_gpcc = xr.open_dataset(f\"{gpcc_directory}/{gpcc_filename}\")\n",
    "    return ds_gpcc.sel(time=slice('1970-01-01', '2000-01-01'))"
   ]
  },
  {
   "cell_type": "code",
   "execution_count": 182,
   "metadata": {},
   "outputs": [],
   "source": [
    "def historical_indices(model_name):\n",
    "    historical_directory = f\"/gws/pw/j05/cop26_hackathons/bristol/project02/data/CMIP6histo/TRBindices/{model_name}\"\n",
    "    historical_filename = f\"pr_1m_zonAvgNikulin_{model_name}_historical_s1850.nc\"\n",
    "    ds_historical = xr.open_dataset(f\"{historical_directory}/{historical_filename}\")\n",
    "    return ds_historical.sel(time=slice('1970-01-01', '2000-01-01'))"
   ]
  },
  {
   "cell_type": "code",
   "execution_count": 183,
   "metadata": {},
   "outputs": [],
   "source": [
    "def future_indices(model_name, scenario):\n",
    "    future_directory = f\"/gws/pw/j05/cop26_hackathons/bristol/project02/data/CMIP6proj/TRBindices/{model_name}\"\n",
    "    future_filename = f\"pr_1m_zon_Avg_Nikulin_{model_name}_{scenario}_s2015.nc\"\n",
    "    ds_future = xr.open_dataset(f\"{future_directory}/{future_filename}\")\n",
    "    return ds_future.sel(time=slice('2070-01-01', '2100-01-01'))"
   ]
  },
  {
   "cell_type": "code",
   "execution_count": 184,
   "metadata": {},
   "outputs": [],
   "source": [
    "def trb_index_label(trb_index):\n",
    "    index_labels = {'amplitude': 'Intensity (mm/day)',\n",
    "                    'mean': 'Location (deg N)',\n",
    "                    'width': 'Width (deg)'}\n",
    "    return index_labels[trb_index]"
   ]
  },
  {
   "cell_type": "markdown",
   "metadata": {},
   "source": [
    "# Compare all TRB indices between historical simulations 1970-2000 and future projections 2070-2100"
   ]
  },
  {
   "cell_type": "code",
   "execution_count": 185,
   "metadata": {},
   "outputs": [],
   "source": [
    "def compare_time_slices_model(model_name, scenario, trb_index, ax=None):\n",
    "    #example model name HadGEM3-GC31-MM\n",
    "    #example scenario ssp585\n",
    "    #trb_index either 'amplitude', 'mean' or 'width'\n",
    "    \n",
    "    ds_historical = historical_indices(model_name)\n",
    "    ds_future = future_indices(model_name, scenario)\n",
    "    \n",
    "    trb_index_historical = ds_historical.gaussian_params.sel(popt=trb_index)\n",
    "    trb_index_future = ds_future.gaussian_params.sel(popt=trb_index)\n",
    "    if trb_index == 'width':\n",
    "        trb_index_historical = np.fabs(trb_index_historical)\n",
    "        trb_index_future = np.fabs(trb_index_future)\n",
    "        trb_index_historical = xr.where(trb_index_historical < 20., trb_index_historical, np.nan)\n",
    "        trb_index_future = xr.where(trb_index_future < 20., trb_index_future, np.nan)\n",
    "    elif trb_index == 'mean':\n",
    "        trb_index_historical = xr.where(np.fabs(trb_index_historical) < 25., trb_index_historical, np.nan)\n",
    "        trb_index_future = xr.where(np.fabs(trb_index_future) < 25., trb_index_future, np.nan)\n",
    "    elif trb_index == 'amplitude':\n",
    "        trb_index_historical = xr.where(trb_index_historical < 50., trb_index_historical, np.nan)\n",
    "        trb_index_future = xr.where(trb_index_future < 50., trb_index_future, np.nan)\n",
    "    \n",
    "    trb_monthly_historical = trb_index_historical.groupby(\"time.month\")\n",
    "    trb_monthly_future = trb_index_future.groupby(\"time.month\")\n",
    "    \n",
    "    months = np.arange(1, 13)\n",
    "    month_labels = [m for m in calendar.month_abbr[1:]]\n",
    "    \n",
    "    if not ax:\n",
    "        ax = plt.gca()\n",
    "    ax.plot(months, trb_monthly_historical.mean(\"time\"), color='k', label='historical')\n",
    "    ax.fill_between(months, trb_monthly_historical.reduce(np.percentile, q=10), trb_monthly_historical.reduce(np.percentile, q=90), facecolor='k', alpha=0.5)\n",
    "    ax.plot(months, trb_monthly_future.mean(\"time\"), color='r', label=scenario)\n",
    "    ax.legend(loc='best')\n",
    "    ax.plot(months, trb_monthly_future.reduce(np.percentile, q=10), '--', color='r', alpha=0.5)\n",
    "    ax.plot(months, trb_monthly_future.reduce(np.percentile, q=90), '--', color='r', alpha=0.5)\n",
    "    ax.set_xticks(months[::2])\n",
    "    ax.set_xticklabels(month_labels[::2])\n",
    "    ax.set_ylabel(trb_index_label(trb_index))\n",
    "    ax.set_title(model_name)\n",
    "    return ax"
   ]
  },
  {
   "cell_type": "markdown",
   "metadata": {},
   "source": [
    "Compare historical with SSP119 (for models that have SSP119 data)"
   ]
  },
  {
   "cell_type": "code",
   "execution_count": null,
   "metadata": {},
   "outputs": [
    {
     "name": "stderr",
     "output_type": "stream",
     "text": [
      "/opt/jaspy/lib/python3.7/site-packages/numpy/lib/function_base.py:3652: RuntimeWarning: Invalid value encountered in percentile\n",
      "  interpolation=interpolation)\n",
      "/opt/jaspy/lib/python3.7/site-packages/numpy/lib/function_base.py:3652: RuntimeWarning: Invalid value encountered in percentile\n",
      "  interpolation=interpolation)\n",
      "/opt/jaspy/lib/python3.7/site-packages/numpy/lib/function_base.py:3652: RuntimeWarning: Invalid value encountered in percentile\n",
      "  interpolation=interpolation)\n"
     ]
    }
   ],
   "source": [
    "models_with_ssp119 = ['CAMS-CSM1-0', 'CanESM5', 'CNRM-ESM2-1', 'FGOALS-g3', 'GISS-E2-1-G', 'UKESM1-0-LL']\n",
    "for i, model in enumerate(models_with_ssp119):\n",
    "    fig, ax = plt.subplots(1, 3,figsize=(20, 5))\n",
    "    compare_time_slices_model(model, 'ssp119', 'mean', ax=ax[0])\n",
    "    compare_time_slices_model(model, 'ssp119', 'width', ax=ax[1])\n",
    "    compare_time_slices_model(model, 'ssp119', 'amplitude', ax=ax[2])\n",
    "    plt.savefig(f\"/home/users/train057/figures/future_change/by_model/CMIP6_SSP119_TRB_indices_{model}.png\", dpi=300, bbox_inches='tight')"
   ]
  },
  {
   "cell_type": "markdown",
   "metadata": {},
   "source": [
    "Compare historical with SSP585"
   ]
  },
  {
   "cell_type": "code",
   "execution_count": null,
   "metadata": {},
   "outputs": [],
   "source": [
    "models_with_ssp585 = [f for f in os.listdir(\"/gws/pw/j05/cop26_hackathons/bristol/project02/data/CMIP6proj/TRBindices/\")]\n",
    "for i, model in enumerate(models_with_ssp585):\n",
    "    fig, ax = plt.subplots(1, 3,figsize=(20, 5))\n",
    "    compare_time_slices_model(model, 'ssp585', 'mean', ax=ax[0])\n",
    "    compare_time_slices_model(model, 'ssp585', 'width', ax=ax[1])\n",
    "    compare_time_slices_model(model, 'ssp585', 'amplitude', ax=ax[2])\n",
    "    plt.savefig(f\"/home/users/train057/figures/future_change/by_model/CMIP6_SSP585_TRB_indices_{model}.png\", dpi=300, bbox_inches='tight')"
   ]
  },
  {
   "cell_type": "markdown",
   "metadata": {},
   "source": [
    "# Changes in seasonal mean TRB indices by model"
   ]
  },
  {
   "cell_type": "code",
   "execution_count": null,
   "metadata": {},
   "outputs": [],
   "source": [
    "def mean_TRB_indices(model_name, trb_index, season):\n",
    "    datasets = {}\n",
    "    datasets['historical'] = historical_indices(model_name)\n",
    "    datasets['proj585'] = future_indices(model_name, 'ssp585')\n",
    "    try:\n",
    "        datasets['proj119'] = future_indices(model_name, 'ssp119')\n",
    "    except FileNotFoundError:\n",
    "        print(f'No SSP1 for {model_name}')   \n",
    "    \n",
    "    expts = datasets.keys()\n",
    "    trb_indices = {expt: datasets[expt].gaussian_params.sel(popt=trb_index) for expt in expts}\n",
    "\n",
    "    for expt in expts:\n",
    "        if trb_index == 'width':\n",
    "            trb_indices[expt] = np.fabs(trb_indices[expt])\n",
    "            trb_indices[expt] = xr.where(trb_indices[expt] < 20., trb_indices[expt], np.nan)\n",
    "        elif trb_index == 'mean':\n",
    "            trb_indices[expt] = xr.where(np.fabs(trb_indices[expt]) < 25., trb_indices[expt], np.nan)\n",
    "        elif trb_index == 'amplitude':\n",
    "            trb_indices[expt] = xr.where(trb_indices[expt] < 50., trb_indices[expt], np.nan)\n",
    "    \n",
    "    trb_indices_seasonal = {expt: trb_indices[expt].groupby(\"time.season\").mean(\"time\").sel(season=season) for expt in expts}\n",
    "    return trb_indices_seasonal"
   ]
  },
  {
   "cell_type": "code",
   "execution_count": null,
   "metadata": {},
   "outputs": [],
   "source": [
    "def compare_mean_indices(list_of_models, trb_index, season, ax=None, show_ssp1=True):\n",
    "    number_of_models = len(list_of_models)\n",
    "    x = np.arange(number_of_models)\n",
    "    model_difference_ssp119 = []\n",
    "    model_difference_ssp585 = []\n",
    "    for model in list_of_models:\n",
    "        indices = mean_TRB_indices(model, trb_index, season)\n",
    "        if 'proj119' in indices.keys():\n",
    "            model_difference_ssp119.append(indices['proj119'].values - indices['historical'].values)\n",
    "        else:\n",
    "            model_difference_ssp119.append(np.nan)\n",
    "        model_difference_ssp585.append(indices['proj585'].values - indices['historical'].values)\n",
    "    if not ax:\n",
    "        ax = plt.figure(figsize=(6, 4.5)).gca()\n",
    "    if show_ssp1:\n",
    "        ax.scatter(x, model_difference_ssp119, c='r', s=100, label='SSP1 - historical')\n",
    "        ax.scatter(x, model_difference_ssp585, c='k', s=100, label='SSP5 - historical')\n",
    "        ax.legend(loc='best', fontsize=14)\n",
    "    else:\n",
    "        ax.bar(x, model_difference_ssp585, color='k')\n",
    "    ax.axhline(0, linestyle='--', color='gray', alpha=0.5)\n",
    "    ax.set_xticks(x)\n",
    "    ax.set_xticklabels(list_of_models, rotation=90)\n",
    "    ax.tick_params(labelsize=14)\n",
    "\n",
    "    ax.set_ylabel(f'change in mean TRB {trb_index_label(trb_index)}', fontsize=14)\n",
    "    ax.set_title(season, fontsize=14)\n",
    "    return ax"
   ]
  },
  {
   "cell_type": "code",
   "execution_count": null,
   "metadata": {},
   "outputs": [],
   "source": [
    "def summer_winter_index_changes(list_of_models, trb_index, show_ssp1=True):\n",
    "    fig, axs = plt.subplots(1, 2, figsize=(15, 5))\n",
    "    compare_mean_indices(list_of_models, trb_index, 'JJA', ax=axs[0], show_ssp1=show_ssp1)\n",
    "    compare_mean_indices(list_of_models, trb_index, 'DJF', ax=axs[1], show_ssp1=show_ssp1)"
   ]
  },
  {
   "cell_type": "markdown",
   "metadata": {},
   "source": [
    "For the models with data for both SSPs 1 and 5, plot the changes in TRB indices from the historical period (1970-2000) to the future period (2070-2100) for each SSP."
   ]
  },
  {
   "cell_type": "code",
   "execution_count": null,
   "metadata": {},
   "outputs": [],
   "source": [
    "models_with_ssp119 = ['CAMS-CSM1-0', 'CanESM5', 'CNRM-ESM2-1', 'FGOALS-g3', 'GISS-E2-1-G', 'UKESM1-0-LL']\n",
    "summer_winter_index_changes(models_with_ssp119, 'mean')\n",
    "plt.savefig(f\"/home/users/train057/figures/future_change/CMIP6_SSP119_vs_SSP585_TRB_location_changes.png\", dpi=300, bbox_inches='tight')\n",
    "summer_winter_index_changes(models_with_ssp119, 'width')\n",
    "plt.savefig(f\"/home/users/train057/figures/future_change/CMIP6_SSP119_vs_SSP585_TRB_width_changes.png\", dpi=300, bbox_inches='tight')\n",
    "summer_winter_index_changes(models_with_ssp119, 'amplitude')\n",
    "plt.savefig(f\"/home/users/train057/figures/future_change/CMIP6_SSP119_vs_SSP585_TRB_intensity_changes.png\", dpi=300, bbox_inches='tight')"
   ]
  },
  {
   "cell_type": "markdown",
   "metadata": {},
   "source": [
    "For all models, plot the changes in the mean values of the TRB indices in JJA and DJF from the historical simulations (1970-2000) to the projected future (2070-2100) under SSP5."
   ]
  },
  {
   "cell_type": "code",
   "execution_count": null,
   "metadata": {},
   "outputs": [],
   "source": [
    "models_with_ssp585 = sorted([f for f in os.listdir(\"/gws/pw/j05/cop26_hackathons/bristol/project02/data/CMIP6proj/TRBindices/\")])\n",
    "summer_winter_index_changes(models_with_ssp585, 'mean', show_ssp1=False)\n",
    "plt.savefig(\"/home/users/train057/figures/future_change/CMIP6_SSP585_TRB_location_changes.png\", dpi=300, bbox_inches='tight')\n",
    "summer_winter_index_changes(models_with_ssp585, 'width', show_ssp1=False)\n",
    "plt.savefig(\"/home/users/train057/figures/future_change/CMIP6_SSP585_TRB_width_changes.png\", dpi=300, bbox_inches='tight')\n",
    "summer_winter_index_changes(models_with_ssp585, 'amplitude', show_ssp1=False)\n",
    "plt.savefig(\"/home/users/train057/figures/future_change/CMIP6_SSP585_TRB_intensity_changes.png\", dpi=300, bbox_inches='tight')"
   ]
  },
  {
   "cell_type": "markdown",
   "metadata": {},
   "source": [
    "Show interannual spread in both historical and future periods for each model (excluding models that have poorer Gaussian fits for the TRB)"
   ]
  },
  {
   "cell_type": "code",
   "execution_count": null,
   "metadata": {},
   "outputs": [],
   "source": [
    "def season_TRB_indices(model_name, trb_index, season):\n",
    "    datasets = {}\n",
    "    datasets['gpcc'] = gpcc_indices()\n",
    "    datasets['historical'] = historical_indices(model_name)\n",
    "    datasets['proj585'] = future_indices(model_name, 'ssp585')\n",
    "    try:\n",
    "        datasets['proj119'] = future_indices(model_name, 'ssp119')\n",
    "    except FileNotFoundError:\n",
    "        print(f'No SSP1 for {model_name}')   \n",
    "    \n",
    "    expts = datasets.keys()\n",
    "    trb_indices = {expt: datasets[expt].gaussian_params.sel(popt=trb_index) for expt in expts}\n",
    "\n",
    "    for expt in expts:\n",
    "        if trb_index == 'width':\n",
    "            trb_indices[expt] = np.fabs(trb_indices[expt])\n",
    "            trb_indices[expt] = xr.where(trb_indices[expt] < 20., trb_indices[expt], np.nan)\n",
    "        elif trb_index == 'mean':\n",
    "            trb_indices[expt] = xr.where(np.fabs(trb_indices[expt]) < 25., trb_indices[expt], np.nan)\n",
    "        elif trb_index == 'amplitude':\n",
    "            trb_indices[expt] = xr.where(trb_indices[expt] < 50., trb_indices[expt], np.nan)\n",
    "    \n",
    "    seasonal_means = {}\n",
    "    for expt in expts:\n",
    "        iris_trb_index = xr.DataArray.to_iris(trb_indices[expt])\n",
    "        iris.coord_categorisation.add_season(iris_trb_index, 'time', name='clim_season')\n",
    "        iris.coord_categorisation.add_season_year(iris_trb_index, 'time', name='season_year')\n",
    "        annual_seasonal_mean = iris_trb_index.aggregated_by(['clim_season', 'season_year'], iris.analysis.MEAN)\n",
    "        means_in_season = annual_seasonal_mean.extract(iris.Constraint(clim_season=lambda c:c==season.lower()))\n",
    "        seasonal_means[expt] = xr.DataArray.from_iris(means_in_season)\n",
    "    return seasonal_means"
   ]
  },
  {
   "cell_type": "code",
   "execution_count": null,
   "metadata": {},
   "outputs": [],
   "source": [
    "def compare_seasonal_indices(list_of_models, trb_index, season, ax=None):\n",
    "    number_of_models = len(list_of_models)\n",
    "    x = np.arange(number_of_models)\n",
    "    means_historical = {}\n",
    "    means_future = {}\n",
    "    for model in list_of_models:\n",
    "        indices = season_TRB_indices(model, trb_index, season)\n",
    "        means_historical[model] = indices['historical'].values\n",
    "        means_future[model] = indices['proj585'].values\n",
    "    means_gpcc = indices['gpcc'].values\n",
    "    if not ax:\n",
    "        ax = plt.figure(figsize=(10, 4)).gca()\n",
    "    ax.boxplot(means_gpcc, widths=0.2, whis=(10,90), showfliers=False, medianprops=dict(color=\"#34cceb\"), boxprops=dict(color=\"#34cceb\"), whiskerprops=dict(color=\"#34cceb\"), capprops=dict(color=\"#34cceb\"), positions=[1])\n",
    "    ax.boxplot(means_historical.values(), widths=0.2, whis=(10,90), showfliers=False, medianprops=dict(color=\"black\"), boxprops=dict(color=\"black\"), whiskerprops=dict(color=\"black\"), capprops=dict(color=\"black\"), positions=(x+2-0.15))\n",
    "    ax.boxplot(means_future.values(), widths=0.2, whis=(10,90), showfliers=False, medianprops=dict(color=\"red\"), boxprops=dict(color=\"red\"), whiskerprops=dict(color=\"red\"), capprops=dict(color=\"red\"), positions=(x+2+0.15))\n",
    "    ax.set_xticks(np.arange(number_of_models+1)+1)\n",
    "    ax.set_xticklabels(['GPCC'] + list(means_historical.keys()), rotation=90)\n",
    "    ax.tick_params(labelsize=14)\n",
    "    ax.set_xlim([0, number_of_models+2])\n",
    "    ax.set_ylabel(f'mean TRB {trb_index_label(trb_index)}', fontsize=14)\n",
    "    custom_lines = [Line2D([0], [0], color='#34cceb', lw=1),\n",
    "                    Line2D([0], [0], color='k', lw=1),\n",
    "                    Line2D([0], [0], color='r', lw=1)]\n",
    "    ax.legend(custom_lines, ['obs', 'historical', 'ssp585'], loc='best', fontsize=14)\n",
    "    ax.set_title(season, fontsize=14)\n",
    "    return ax"
   ]
  },
  {
   "cell_type": "code",
   "execution_count": null,
   "metadata": {},
   "outputs": [],
   "source": [
    "def summer_winter_index_changes_boxplots(list_of_models, trb_index):\n",
    "    fig, axs = plt.subplots(1, 2, figsize=(25, 4))\n",
    "    compare_seasonal_indices(list_of_models, trb_index, 'JJA', ax=axs[0])\n",
    "    compare_seasonal_indices(list_of_models, trb_index, 'DJF', ax=axs[1])"
   ]
  },
  {
   "cell_type": "code",
   "execution_count": null,
   "metadata": {},
   "outputs": [],
   "source": [
    "bad_fit_models = ['CNRM', 'GISS', 'FGOALS'] # don't include models with poor mean r^2 for the Gaussian TRB fitting\n",
    "list_of_models = sorted([f for f in os.listdir(\"/gws/pw/j05/cop26_hackathons/bristol/project02/data/CMIP6proj/TRBindices/\") if not any(b in f for b in bad_fit_models)])\n",
    "summer_winter_index_changes_boxplots(list_of_models, 'mean')\n",
    "plt.savefig(\"/home/users/train057/figures/future_change/CMIP6_historical_vs_SSP585_TRB_location_boxplots.png\", dpi=300, bbox_inches='tight')\n",
    "summer_winter_index_changes_boxplots(list_of_models, 'width')\n",
    "plt.savefig(\"/home/users/train057/figures/future_change/CMIP6_historical_vs_SSP585_TRB_width_boxplots.png\", dpi=300, bbox_inches='tight')\n",
    "summer_winter_index_changes_boxplots(list_of_models, 'amplitude')\n",
    "plt.savefig(\"/home/users/train057/figures/future_change/CMIP6_historical_vs_SSP585_TRB_intensity_boxplots.png\", dpi=300, bbox_inches='tight')"
   ]
  }
 ],
 "metadata": {
  "kernelspec": {
   "display_name": "Python 3 + Jaspy",
   "language": "python",
   "name": "jaspy"
  },
  "language_info": {
   "codemirror_mode": {
    "name": "ipython",
    "version": 3
   },
   "file_extension": ".py",
   "mimetype": "text/x-python",
   "name": "python",
   "nbconvert_exporter": "python",
   "pygments_lexer": "ipython3",
   "version": "3.7.1"
  }
 },
 "nbformat": 4,
 "nbformat_minor": 4
}
